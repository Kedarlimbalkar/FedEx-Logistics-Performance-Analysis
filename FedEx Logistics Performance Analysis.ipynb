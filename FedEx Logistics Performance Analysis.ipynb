{
  "nbformat": 4,
  "nbformat_minor": 0,
  "metadata": {
    "colab": {
      "private_outputs": true,
      "provenance": [],
      "collapsed_sections": [
        "vncDsAP0Gaoa",
        "w6K7xa23Elo4",
        "Ag9LCva-p1cl",
        "E6MkPsBcp1cl",
        "2cELzS2fp1cl",
        "3MPXvC8up1cl",
        "NC_X3p0fY2L0",
        "UV0SzAkaZNRQ",
        "YPEH6qLeZNRQ",
        "EXh0U9oCveiU",
        "gIfDvo9L0UH2"
      ],
      "cell_execution_strategy": "setup",
      "generative_ai_disabled": true
    },
    "kernelspec": {
      "name": "python3",
      "display_name": "Python 3"
    },
    "language_info": {
      "name": "python"
    }
  },
  "cells": [
    {
      "cell_type": "code",
      "source": [],
      "metadata": {
        "id": "I1apcow5dxii"
      },
      "execution_count": null,
      "outputs": []
    },
    {
      "cell_type": "markdown",
      "source": [
        "# **Project Name**    -  FedEx Logistics Performance Analysis\n",
        "\n"
      ],
      "metadata": {
        "id": "vncDsAP0Gaoa"
      }
    },
    {
      "cell_type": "markdown",
      "source": [
        "##### **Project Type**    - EDA\n",
        "##### **Contribution**    - Individual\n"
      ],
      "metadata": {
        "id": "beRrZCGUAJYm"
      }
    },
    {
      "cell_type": "markdown",
      "source": [
        "# **Project Summary -**"
      ],
      "metadata": {
        "id": "FJNUwmbgGyua"
      }
    },
    {
      "cell_type": "markdown",
      "source": [
        ". Delivery Timeliness and Performance\n",
        "A central theme was the analysis of delivery timelines. By creating a new feature representing the difference between the Scheduled Delivery Date and the Delivered to Client Date, we can measure on-time delivery performance. Visualizations such as bar charts and histograms reveal the distribution of delivery delays and lead times. This analysis will identify which Shipment Mode (e.g., Air vs. Truck) or Country has the most significant delays. These findings can point to specific logistical bottlenecks that need to be addressed to improve delivery timelines and meet customer expectations more consistently.\n",
        "\n",
        "2. Cost-Effectiveness and Vendor Performance\n",
        "To evaluate cost-effectiveness, the analysis delved into the relationship between Line Item Value, Pack Price, and Freight Cost (USD). By calculating cost per unit and cost per shipment, we can compare the financial performance of different Vendor INCO Terms and Manufacturing Sites. This could reveal if certain vendors consistently incur higher freight costs or if specific Incoterms lead to more economical shipments. For instance, a scatter plot of Line Item Value versus Freight Cost could help identify a correlation or reveal outliers that warrant further investigation, providing a clear path for cost reduction.\n",
        "\n",
        "3. Identifying Bottlenecks and Operational Inefficiencies\n",
        "The EDA also looked for patterns in shipment data that might indicate systemic issues. By aggregating data by Product Group and Country, we can create heatmaps to visualize high-traffic areas or regions with frequent delays. For example, a bar chart could compare the average delay time across different Manufacturing Site locations, flagging underperforming suppliers. The analysis of PQ First Sent to Client Date and PO Sent to Vendor Date can also shed light on internal processing delays. These insights are crucial for streamlining workflows, optimizing vendor relationships, and ultimately reducing operational friction.\n",
        "\n",
        "Conclusion and Recommendations\n",
        "The EDA on FedEx Logistics data provides a robust overview of the supply chain, moving beyond a simple spreadsheet view to a dynamic understanding of operational performance. The insights gained from this analysis, ranging from on-time delivery metrics to cost-per-shipment breakdowns, provide a clear roadmap for strategic decision-making. By leveraging these findings, FedEx Logistics can:\n",
        "\n",
        "Prioritize Vendor Management: Engage with underperforming vendors to improve delivery timelines and reduce costs.\n",
        "\n",
        "Optimize Shipment Routes: Reroute specific product shipments or use different Shipment Mode to mitigate delays in bottleneck regions.\n",
        "\n",
        "Enhance Cost Control: Renegotiate freight agreements or vendor terms to align with the data-driven understanding of cost-effectiveness.\n"
      ],
      "metadata": {
        "id": "F6v_1wHtG2nS"
      }
    },
    {
      "cell_type": "markdown",
      "source": [
        "# **GitHub Link -**"
      ],
      "metadata": {
        "id": "w6K7xa23Elo4"
      }
    },
    {
      "cell_type": "markdown",
      "source": [
        "https://github.com/Kedarlimbalkar/FedEx-Logistics-Performance-Analysis"
      ],
      "metadata": {
        "id": "h1o69JH3Eqqn"
      }
    },
    {
      "cell_type": "markdown",
      "source": [
        "# **Problem Statement**\n"
      ],
      "metadata": {
        "id": "yQaldy8SH6Dl"
      }
    },
    {
      "cell_type": "markdown",
      "source": [
        "FedEx Logistics operates a vast and intricate global supply chain, where inefficiencies can lead to costly delays and diminished customer satisfaction. In a competitive market defined by the rise of e-commerce and global distribution, optimizing these operations is crucial for maintaining a competitive edge.\n",
        "\n",
        "The core business problem is to leverage a comprehensive dataset of logistics information—including purchase orders, shipment methods, vendor terms, and delivery schedules—to identify and address key operational challenges. We need to analyze this data to pinpoint bottlenecks, evaluate the cost-effectiveness of different shipment methods, and assess delivery timelines. The objective is to move beyond reactive problem-solving by providing a data-driven framework to streamline the supply chain, thereby reducing freight costs, improving delivery speed, and enhancing the overall customer experience. This project will deliver actionable insights that allow FedEx to proactively optimize its logistics and solidify its market leadership."
      ],
      "metadata": {
        "id": "DpeJGUA3kjGy"
      }
    },
    {
      "cell_type": "markdown",
      "source": [
        "#### **Define Your Business Objective?**"
      ],
      "metadata": {
        "id": "PH-0ReGfmX4f"
      }
    },
    {
      "cell_type": "markdown",
      "source": [
        "Optimize logistics to reduce costs, improve delivery times, and enhance customer satisfaction."
      ],
      "metadata": {
        "id": "PhDvGCAqmjP1"
      }
    },
    {
      "cell_type": "markdown",
      "source": [
        "# **General Guidelines** : -  "
      ],
      "metadata": {
        "id": "mDgbUHAGgjLW"
      }
    },
    {
      "cell_type": "markdown",
      "source": [
        "1.   Well-structured, formatted, and commented code is required.\n",
        "2.   Exception Handling, Production Grade Code & Deployment Ready Code will be a plus. Those students will be awarded some additional credits.\n",
        "     \n",
        "     The additional credits will have advantages over other students during Star Student selection.\n",
        "       \n",
        "             [ Note: - Deployment Ready Code is defined as, the whole .ipynb notebook should be executable in one go\n",
        "                       without a single error logged. ]\n",
        "\n",
        "3.   Each and every logic should have proper comments.\n",
        "4. You may add as many number of charts you want. Make Sure for each and every chart the following format should be answered.\n",
        "        \n",
        "\n",
        "```\n",
        "# Chart visualization code\n",
        "```\n",
        "            \n",
        "\n",
        "*   Why did you pick the specific chart?\n",
        "*   What is/are the insight(s) found from the chart?\n",
        "* Will the gained insights help creating a positive business impact?\n",
        "Are there any insights that lead to negative growth? Justify with specific reason.\n",
        "\n",
        "5. You have to create at least 20 logical & meaningful charts having important insights.\n",
        "\n",
        "\n",
        "[ Hints : - Do the Vizualization in  a structured way while following \"UBM\" Rule.\n",
        "\n",
        "U - Univariate Analysis,\n",
        "\n",
        "B - Bivariate Analysis (Numerical - Categorical, Numerical - Numerical, Categorical - Categorical)\n",
        "\n",
        "M - Multivariate Analysis\n",
        " ]\n",
        "\n",
        "\n",
        "\n"
      ],
      "metadata": {
        "id": "ZrxVaUj-hHfC"
      }
    },
    {
      "cell_type": "markdown",
      "source": [
        "# ***Let's Begin !***"
      ],
      "metadata": {
        "id": "O_i_v8NEhb9l"
      }
    },
    {
      "cell_type": "markdown",
      "source": [
        "## ***1. Know Your Data***"
      ],
      "metadata": {
        "id": "HhfV-JJviCcP"
      }
    },
    {
      "cell_type": "markdown",
      "source": [
        "### Import Libraries"
      ],
      "metadata": {
        "id": "Y3lxredqlCYt"
      }
    },
    {
      "cell_type": "code",
      "source": [
        "import pandas as pd\n",
        "import numpy as np\n",
        "import matplotlib.pyplot as plt\n",
        "import seaborn as sns"
      ],
      "metadata": {
        "id": "M8Vqi-pPk-HR"
      },
      "execution_count": null,
      "outputs": []
    },
    {
      "cell_type": "markdown",
      "source": [
        "### Dataset Loading"
      ],
      "metadata": {
        "id": "3RnN4peoiCZX"
      }
    },
    {
      "cell_type": "code",
      "source": [
        "# Load Dataset\n",
        "df = pd.read_csv('SCMS_Delivery_History_Dataset.csv')"
      ],
      "metadata": {
        "id": "4CkvbW_SlZ_R"
      },
      "execution_count": null,
      "outputs": []
    },
    {
      "cell_type": "markdown",
      "source": [
        "### Dataset First View"
      ],
      "metadata": {
        "id": "x71ZqKXriCWQ"
      }
    },
    {
      "cell_type": "code",
      "source": [
        "# Dataset First Look\n",
        "# Display the first 5 rows of the DataFrame\n",
        "print(\"First 5 rows:\")\n",
        "print(df.head())\n",
        "\n",
        "# Display basic information about the DataFrame, including data types and non-null values\n",
        "print(\"\\nDataFrame Info:\")\n",
        "print(df.info())\n",
        "\n",
        "# Display descriptive statistics for numerical columns\n",
        "print(\"\\nDescriptive statistics for numerical columns:\")\n",
        "print(df.describe())\n",
        "\n",
        "# Display descriptive statistics for categorical columns\n",
        "print(\"\\nDescriptive statistics for categorical columns:\")\n",
        "print(df.describe(include=['object']))"
      ],
      "metadata": {
        "id": "LWNFOSvLl09H"
      },
      "execution_count": null,
      "outputs": []
    },
    {
      "cell_type": "markdown",
      "source": [
        "### Dataset Rows & Columns count"
      ],
      "metadata": {
        "id": "7hBIi_osiCS2"
      }
    },
    {
      "cell_type": "code",
      "source": [
        "# Dataset Rows & Columns count\n",
        "import pandas as pd\n",
        "\n",
        "# Load the dataset\n",
        "df = pd.read_csv('SCMS_Delivery_History_Dataset.csv')\n",
        "\n",
        "# Get the number of rows and columns\n",
        "num_rows, num_cols = df.shape\n",
        "\n",
        "# Print the results\n",
        "print(f\"The dataset has {num_rows} rows and {num_cols} columns.\")"
      ],
      "metadata": {
        "id": "Kllu7SJgmLij"
      },
      "execution_count": null,
      "outputs": []
    },
    {
      "cell_type": "markdown",
      "source": [
        "### Dataset Information"
      ],
      "metadata": {
        "id": "JlHwYmJAmNHm"
      }
    },
    {
      "cell_type": "code",
      "source": [
        "# Dataset Info\n",
        "print(df.info())"
      ],
      "metadata": {
        "id": "e9hRXRi6meOf"
      },
      "execution_count": null,
      "outputs": []
    },
    {
      "cell_type": "markdown",
      "source": [
        "#### Duplicate Values"
      ],
      "metadata": {
        "id": "35m5QtbWiB9F"
      }
    },
    {
      "cell_type": "code",
      "source": [
        "# Dataset Duplicate Value Count\n",
        "len(df[df.duplicated()])"
      ],
      "metadata": {
        "id": "1sLdpKYkmox0"
      },
      "execution_count": null,
      "outputs": []
    },
    {
      "cell_type": "markdown",
      "source": [
        "#### Missing Values/Null Values"
      ],
      "metadata": {
        "id": "PoPl-ycgm1ru"
      }
    },
    {
      "cell_type": "code",
      "source": [
        "# Missing Values/Null Values Count\n",
        "print(df.isnull().sum())"
      ],
      "metadata": {
        "id": "GgHWkxvamxVg"
      },
      "execution_count": null,
      "outputs": []
    },
    {
      "cell_type": "code",
      "source": [
        "# Visualizing the missing values\n",
        "# Checking Null Value by plotting Heatmap\n",
        "sns.heatmap(df.isnull(), cbar=False)"
      ],
      "metadata": {
        "id": "3q5wnI3om9sJ"
      },
      "execution_count": null,
      "outputs": []
    },
    {
      "cell_type": "markdown",
      "source": [
        "### What did you know about your dataset?"
      ],
      "metadata": {
        "id": "H0kj-8xxnORC"
      }
    },
    {
      "cell_type": "markdown",
      "source": [
        "The dataset contains 10,324 records and 33 features, providing a comprehensive view of FedEx's global logistics operations. A key finding is the presence of inconsistent and missing data, which will require significant cleaning. For instance, columns such as Weight (Kilograms) and Freight Cost (USD) are incorrectly stored as text (object type) and contain non-numerical values. Similarly, all date-related columns are strings and need to be converted to a proper datetime format. Several columns, including Shipment Mode and Dosage, also have missing values that must be handled. This initial assessment shows that a crucial first step in the project will be data preparation to ensure the integrity of any subsequent analysis."
      ],
      "metadata": {
        "id": "gfoNAAC-nUe_"
      }
    },
    {
      "cell_type": "markdown",
      "source": [
        "## ***2. Understanding Your Variables***"
      ],
      "metadata": {
        "id": "nA9Y7ga8ng1Z"
      }
    },
    {
      "cell_type": "code",
      "source": [
        "# Dataset Columns\n",
        "df.columns"
      ],
      "metadata": {
        "id": "j7xfkqrt5Ag5"
      },
      "execution_count": null,
      "outputs": []
    },
    {
      "cell_type": "code",
      "source": [
        "# Dataset Describe\n",
        "df.describe(include='all')"
      ],
      "metadata": {
        "id": "DnOaZdaE5Q5t"
      },
      "execution_count": null,
      "outputs": []
    },
    {
      "cell_type": "markdown",
      "source": [
        "### Variables Description"
      ],
      "metadata": {
        "id": "PBTbrJXOngz2"
      }
    },
    {
      "cell_type": "markdown",
      "source": [
        "ID: A unique identifier for each record or line item in the dataset.\n",
        "\n",
        "Project Code: An identifier for the specific project associated with the shipment.\n",
        "\n",
        "PQ #: The number for the Purchase Quote, a preliminary request for goods or services.\n",
        "\n",
        "PO / SO #: The number for the Purchase Order or Sales Order, a commercial document confirming an order.\n",
        "\n",
        "ASN/DN #: The number for the Advanced Shipping Notice or Delivery Note.\n",
        "\n",
        "Country: The country where the products were delivered.\n",
        "\n",
        "Managed By: The organization or entity managing the shipment.\n",
        "\n",
        "Fulfill Via: Specifies the method of fulfillment, such as \"Direct Drop\" or \"From RDC\" (Regional Distribution Center).\n",
        "\n",
        "Vendor INCO Term: The Incoterm (International Commercial Term) for the vendor agreement, which defines the responsibilities of the buyer and seller.\n",
        "\n",
        "Shipment Mode: The method of transport used for the shipment (e.g., Air, Truck).\n",
        "\n",
        "PQ First Sent to Client Date: The date the initial purchase quote was sent to the client.\n",
        "\n",
        "PO Sent to Vendor Date: The date the purchase order was sent to the vendor.\n",
        "\n",
        "Scheduled Delivery Date: The planned date for the delivery to the client.\n",
        "\n",
        "Delivered to Client Date: The actual date the shipment was delivered to the client.\n",
        "\n",
        "Delivery Recorded Date: The date the delivery was officially recorded in the system.\n",
        "\n",
        "Product Group: A high-level category for the product, such as 'ARV' or 'HRDT'.\n",
        "\n",
        "Sub Classification: A more specific classification of the product (e.g., 'Adult', 'Pediatric', 'HIV test').\n",
        "\n",
        "Vendor: The name of the company that supplied the goods.\n",
        "\n",
        "Item Description: A detailed description of the product in the shipment.\n",
        "\n",
        "Molecule/Test Type: The specific molecule or test type of the product.\n",
        "\n",
        "Brand: The brand name of the product.\n",
        "\n",
        "Dosage: The dosage strength of the medication (e.g., '150mg').\n",
        "\n",
        "Dosage Form: The physical form of the medication (e.g., 'Tablet', 'Oral suspension').\n",
        "\n",
        "Unit of Measure (Per Pack): The number of units contained in each pack.\n",
        "\n",
        "Line Item Quantity: The total number of units shipped for that line item.\n",
        "\n",
        "Line Item Value: The total monetary value of the line item.\n",
        "\n",
        "Pack Price: The price per pack of the product.\n",
        "\n",
        "Unit Price: The price per individual unit.\n",
        "\n",
        "Manufacturing Site: The location where the product was manufactured.\n",
        "\n",
        "First Line Designation: A categorical variable indicating if the product is a first-line treatment.\n",
        "\n",
        "Weight (Kilograms): The total weight of the shipment in kilograms. This column contains both numerical and text values, such as \"Weight Captured Separately.\"\n",
        "\n",
        "Freight Cost (USD): The cost of shipping the products in US dollars. This also contains text values like \"Freight Included in Commodity Cost.\"\n",
        "\n",
        "Line Item Insurance (USD): The insurance cost for the specific line item in US dollars."
      ],
      "metadata": {
        "id": "aJV4KIxSnxay"
      }
    },
    {
      "cell_type": "markdown",
      "source": [
        "### Check Unique Values for each variable."
      ],
      "metadata": {
        "id": "u3PMJOP6ngxN"
      }
    },
    {
      "cell_type": "code",
      "source": [
        "# Check Unique Values for each variable.\n",
        "for i in df.columns.tolist():\n",
        "  print(\"No. of unique values in \",i,\"is\",df[i].nunique(),\".\")"
      ],
      "metadata": {
        "id": "zms12Yq5n-jE"
      },
      "execution_count": null,
      "outputs": []
    },
    {
      "cell_type": "markdown",
      "source": [
        "## 3. ***Data Wrangling***"
      ],
      "metadata": {
        "id": "dauF4eBmngu3"
      }
    },
    {
      "cell_type": "markdown",
      "source": [
        "### Data Wrangling Code"
      ],
      "metadata": {
        "id": "bKJF3rekwFvQ"
      }
    },
    {
      "cell_type": "code",
      "source": [
        "# Write your code to make your dataset analysis ready.\n",
        "import pandas as pd\n",
        "\n",
        "# Load the dataset\n",
        "dataset = pd.read_csv('SCMS_Delivery_History_Dataset.csv')\n",
        "\n",
        "# Create a copy of the current dataset and assigning to df\n",
        "df = dataset.copy()\n",
        "\n",
        "# Checking Shape of \"Yes\" and \"No\" values in 'First Line Designation'\n",
        "print(\"No. of items with First Line Designation 'Yes':\", len(df[df['First Line Designation'] == 'Yes']))\n",
        "print(\"No. of items with First Line Designation 'No':\", len(df[df['First Line Designation'] == 'No']))\n",
        "\n",
        "# Assigning 'Yes' designation data to variable df_yes\n",
        "df_yes = df[df['First Line Designation'] == 'Yes'].copy()\n",
        "\n",
        "# Assigning 'No' designation data to variable df_no\n",
        "df_no = df[df['First Line Designation'] == 'No'].copy()\n",
        "\n",
        "print(\"\\nShape of the original DataFrame:\", df.shape)\n",
        "print(\"Shape of the 'Yes' DataFrame:\", df_yes.shape)\n",
        "print(\"Shape of the 'No' DataFrame:\", df_no.shape)"
      ],
      "metadata": {
        "id": "wk-9a2fpoLcV"
      },
      "execution_count": null,
      "outputs": []
    },
    {
      "cell_type": "code",
      "source": [
        "# Load the dataset\n",
        "df = pd.read_csv('SCMS_Delivery_History_Dataset.csv')\n",
        "\n",
        "print(\"--- Initial Dataset Info ---\")\n",
        "print(df.info())\n",
        "print(\"\\n\")\n",
        "\n",
        "# --- DATA WRANGLING PROCESS ---\n",
        "\n",
        "# 1. Convert Date Columns to datetime objects\n",
        "# The 'Date Not Captured' string will be converted to NaT (Not a Time)\n",
        "date_cols = ['PQ First Sent to Client Date', 'PO Sent to Vendor Date',\n",
        "             'Scheduled Delivery Date', 'Delivered to Client Date',\n",
        "             'Delivery Recorded Date']\n",
        "\n",
        "for col in date_cols:\n",
        "    df[col] = pd.to_datetime(df[col], errors='coerce')\n",
        "\n",
        "print(\"--- After Date Conversion ---\")\n",
        "print(df[date_cols].info())\n",
        "print(\"\\n\")\n",
        "\n",
        "\n",
        "# 2. Clean and convert 'Weight (Kilograms)' and 'Freight Cost (USD)' to numeric\n",
        "# Replace non-numeric strings with NaN, then convert to float\n",
        "df['Weight (Kilograms)'] = pd.to_numeric(\n",
        "    df['Weight (Kilograms)'].str.replace('Weight Captured Separately', 'NaN'), errors='coerce'\n",
        ")\n",
        "df['Freight Cost (USD)'] = pd.to_numeric(\n",
        "    df['Freight Cost (USD)'].str.replace('Freight Included in Commodity Cost', 'NaN'), errors='coerce'\n",
        ")\n",
        "\n",
        "print(\"--- After Cleaning Numerical Columns ---\")\n",
        "print(df[['Weight (Kilograms)', 'Freight Cost (USD)']].info())\n",
        "print(\"\\n\")\n",
        "\n",
        "\n",
        "# 3. Handle missing values\n",
        "# For 'Shipment Mode', we'll fill missing values with the mode (most frequent value)\n",
        "df['Shipment Mode'] = df['Shipment Mode'].fillna(df['Shipment Mode'].mode()[0])\n",
        "\n",
        "# For 'Dosage', we'll fill missing values with 'Unknown'\n",
        "df['Dosage'] = df['Dosage'].fillna('Unknown')\n",
        "\n",
        "# For 'Line Item Insurance (USD)', we'll fill with 0, assuming no cost if not recorded\n",
        "df['Line Item Insurance (USD)'] = df['Line Item Insurance (USD)'].fillna(0)\n",
        "\n",
        "# For 'Line Item Value', fill with 0 to make it consistent\n",
        "df['Line Item Value'] = df['Line Item Value'].fillna(0)\n",
        "\n",
        "# For 'Brand', we will fill with 'Unknown'\n",
        "df['Brand'] = df['Brand'].fillna('Unknown')\n",
        "\n",
        "print(\"--- After Handling Missing Values ---\")\n",
        "print(df.info())\n",
        "print(\"\\n\")\n",
        "\n",
        "\n",
        "# 4. Feature Engineering: Create a 'Delivery Delay (Days)' column\n",
        "# Calculate the difference between Delivered and Scheduled dates\n",
        "df['Delivery Delay (Days)'] = (df['Delivered to Client Date'] - df['Scheduled Delivery Date']).dt.days\n",
        "\n",
        "print(\"--- After Feature Engineering ---\")\n",
        "print(\"New column 'Delivery Delay (Days)' has been created.\")\n",
        "print(df[['Scheduled Delivery Date', 'Delivered to Client Date', 'Delivery Delay (Days)']].head())\n",
        "print(\"\\n\")\n",
        "\n",
        "\n",
        "# 5. Check for and handle duplicates\n",
        "num_duplicates = df.duplicated().sum()\n",
        "if num_duplicates > 0:\n",
        "    print(f\"Found {num_duplicates} duplicate rows. Dropping them.\")\n",
        "    df.drop_duplicates(inplace=True)\n",
        "else:\n",
        "    print(\"No duplicate rows found.\")\n",
        "\n",
        "print(\"--- Final Wrangled Dataset Info ---\")\n",
        "print(df.info())\n",
        "print(\"\\nFinal shape of the dataset:\", df.shape)"
      ],
      "metadata": {
        "id": "QTEJGEAo7zP3"
      },
      "execution_count": null,
      "outputs": []
    },
    {
      "cell_type": "markdown",
      "source": [
        "### What all manipulations have you done and insights you found?"
      ],
      "metadata": {
        "id": "MSa1f5Uengrz"
      }
    },
    {
      "cell_type": "markdown",
      "source": [
        "he manipulations revealed that the raw dataset was messy, with significant data quality issues. Critical date and numerical data were stored as inconsistent strings, making direct analysis impossible. The cleaned data now provides a reliable foundation to analyze key performance indicators such as delivery timeliness and cost-effectiveness."
      ],
      "metadata": {
        "id": "LbyXE7I1olp8"
      }
    },
    {
      "cell_type": "markdown",
      "source": [
        "## ***4. Data Vizualization, Storytelling & Experimenting with charts : Understand the relationships between variables***"
      ],
      "metadata": {
        "id": "GF8Ens_Soomf"
      }
    },
    {
      "cell_type": "markdown",
      "source": [
        "#### Chart - 1"
      ],
      "metadata": {
        "id": "0wOQAZs5pc--"
      }
    },
    {
      "cell_type": "code",
      "source": [
        "# Chart - 1 visualization code\n",
        "\n",
        "# 1. Analysis: Overall Delivery Delay Distribution\n",
        "# Goal: Understand the overall delivery performance.\n",
        "plt.figure(figsize=(10, 6))\n",
        "sns.histplot(df['Delivery Delay (Days)'].dropna(), bins=50, kde=True)\n",
        "plt.title('Distribution of Delivery Delay (Days)')\n",
        "plt.xlabel('Delivery Delay (Days) (Positive = Late, Negative = Early)')\n",
        "plt.ylabel('Frequency')\n",
        "plt.savefig('overall_delivery_delay_distribution.png')\n",
        "plt.show()\n",
        "print(\"Analysis 1: Histogram of Delivery Delay (Days) created.\")\n",
        "print(\"This chart shows the frequency of shipments being early, on time, or late.\")\n"
      ],
      "metadata": {
        "id": "7v_ESjsspbW7"
      },
      "execution_count": null,
      "outputs": []
    },
    {
      "cell_type": "markdown",
      "source": [
        "##### 1. Why did you pick the specific chart?"
      ],
      "metadata": {
        "id": "K5QZ13OEpz2H"
      }
    },
    {
      "cell_type": "markdown",
      "source": [
        "**1. Overall Delivery Delay Distribution**\n",
        " A histogram is ideal for visualizing the frequency and distribution of a continuous variable like delivery delay."
      ],
      "metadata": {
        "id": "XESiWehPqBRc"
      }
    },
    {
      "cell_type": "markdown",
      "source": [
        "##### 2. What is/are the insight(s) found from the chart?"
      ],
      "metadata": {
        "id": "lQ7QKXXCp7Bj"
      }
    },
    {
      "cell_type": "markdown",
      "source": [
        "The chart shows most shipments are delivered on time or slightly early, as the distribution is centered near zero days"
      ],
      "metadata": {
        "id": "C_j1G7yiqdRP"
      }
    },
    {
      "cell_type": "markdown",
      "source": [
        "##### 3. Will the gained insights help creating a positive business impact?\n",
        "Are there any insights that lead to negative growth? Justify with specific reason."
      ],
      "metadata": {
        "id": "448CDAPjqfQr"
      }
    },
    {
      "cell_type": "markdown",
      "source": [
        "Positive. This insight confirms overall reliability, highlighting that improvement efforts can be targeted at the long tail of late deliveries."
      ],
      "metadata": {
        "id": "3cspy4FjqxJW"
      }
    },
    {
      "cell_type": "markdown",
      "source": [
        "#### Chart - 2"
      ],
      "metadata": {
        "id": "KSlN3yHqYklG"
      }
    },
    {
      "cell_type": "code",
      "source": [
        "# Chart - 2 visualization code\n",
        "\n",
        "# 2. Analysis: Delivery Performance by Shipment Mode\n",
        "# Goal: Compare the timeliness of different shipment methods.\n",
        "avg_delay_by_mode = df.groupby('Shipment Mode')['Delivery Delay (Days)'].mean().sort_values()\n",
        "plt.figure(figsize=(10, 6))\n",
        "avg_delay_by_mode.plot(kind='bar')\n",
        "plt.title('Average Delivery Delay by Shipment Mode')\n",
        "plt.xlabel('Shipment Mode')\n",
        "plt.ylabel('Average Delay (Days)')\n",
        "plt.xticks(rotation=45)\n",
        "plt.tight_layout()\n",
        "plt.savefig('avg_delivery_delay_by_mode.png')\n",
        "plt.show()\n",
        "print(\"Analysis 2: Bar chart of average Delivery Delay by Shipment Mode created.\")\n",
        "print(\"This chart compares the average delivery delay for Air, Ocean, and other shipment modes.\")\n",
        "\n"
      ],
      "metadata": {
        "id": "R4YgtaqtYklH"
      },
      "execution_count": null,
      "outputs": []
    },
    {
      "cell_type": "markdown",
      "source": [
        "##### 1. Why did you pick the specific chart?"
      ],
      "metadata": {
        "id": "t6dVpIINYklI"
      }
    },
    {
      "cell_type": "markdown",
      "source": [
        "**2. Delivery Performance by Shipment Mode**\n",
        " A bar chart is perfect for comparing a key metric (average delay) across distinct categories (shipment modes)."
      ],
      "metadata": {
        "id": "5aaW0BYyYklI"
      }
    },
    {
      "cell_type": "markdown",
      "source": [
        "##### 2. What is/are the insight(s) found from the chart?"
      ],
      "metadata": {
        "id": "ijmpgYnKYklI"
      }
    },
    {
      "cell_type": "markdown",
      "source": [
        "Ocean shipments have a much higher average delay than Air or Truck shipments, making them less reliable."
      ],
      "metadata": {
        "id": "PSx9atu2YklI"
      }
    },
    {
      "cell_type": "markdown",
      "source": [
        "##### 3. Will the gained insights help creating a positive business impact?\n",
        "Are there any insights that lead to negative growth? Justify with specific reason."
      ],
      "metadata": {
        "id": "-JiQyfWJYklI"
      }
    },
    {
      "cell_type": "markdown",
      "source": [
        "Positive. This helps in logistics optimization by setting realistic expectations or re-evaluating the use of Ocean for time-sensitive deliveries."
      ],
      "metadata": {
        "id": "BcBbebzrYklV"
      }
    },
    {
      "cell_type": "markdown",
      "source": [
        "#### Chart - 3"
      ],
      "metadata": {
        "id": "EM7whBJCYoAo"
      }
    },
    {
      "cell_type": "code",
      "source": [
        "# Chart - 3 visualization code\n",
        "# 3. Analysis: Top 10 Countries by Delivery Volume (Quantity)\n",
        "# Goal: Identify the most active delivery destinations.\n",
        "top_countries_by_quantity = df.groupby('Country')['Line Item Quantity'].sum().nlargest(10)\n",
        "plt.figure(figsize=(12, 7))\n",
        "top_countries_by_quantity.sort_values().plot(kind='barh', color='skyblue')\n",
        "plt.title('Top 10 Countries by Total Line Item Quantity')\n",
        "plt.xlabel('Total Line Item Quantity')\n",
        "plt.ylabel('Country')\n",
        "plt.tight_layout()\n",
        "plt.savefig('top_10_countries_by_quantity.png')\n",
        "plt.show()\n",
        "print(\"Analysis 3: Horizontal bar chart of Top 10 Countries by Quantity created.\")\n",
        "print(\"This chart identifies the countries with the highest total shipment volume.\")\n"
      ],
      "metadata": {
        "id": "t6GMdE67YoAp"
      },
      "execution_count": null,
      "outputs": []
    },
    {
      "cell_type": "markdown",
      "source": [
        "##### 1. Why did you pick the specific chart?"
      ],
      "metadata": {
        "id": "fge-S5ZAYoAp"
      }
    },
    {
      "cell_type": "markdown",
      "source": [
        "**3. Top 10 Countries by Delivery Volume**\n",
        " A horizontal bar chart effectively ranks countries by a metric while allowing clear, untruncated labels."
      ],
      "metadata": {
        "id": "5dBItgRVYoAp"
      }
    },
    {
      "cell_type": "markdown",
      "source": [
        "##### 2. What is/are the insight(s) found from the chart?"
      ],
      "metadata": {
        "id": "85gYPyotYoAp"
      }
    },
    {
      "cell_type": "markdown",
      "source": [
        "South Africa and Uganda are the largest markets, receiving the highest volume of line item quantities."
      ],
      "metadata": {
        "id": "4jstXR6OYoAp"
      }
    },
    {
      "cell_type": "markdown",
      "source": [
        "##### 3. Will the gained insights help creating a positive business impact?\n",
        "Are there any insights that lead to negative growth? Justify with specific reason."
      ],
      "metadata": {
        "id": "RoGjAbkUYoAp"
      }
    },
    {
      "cell_type": "markdown",
      "source": [
        "Positive. The business can focus resources and develop targeted strategies for these key, high-volume regions."
      ],
      "metadata": {
        "id": "zfJ8IqMcYoAp"
      }
    },
    {
      "cell_type": "markdown",
      "source": [
        "#### Chart - 4"
      ],
      "metadata": {
        "id": "4Of9eVA-YrdM"
      }
    },
    {
      "cell_type": "code",
      "source": [
        "# Chart - 4 visualization code\n",
        "# 4. Analysis: Top 10 Countries with Highest Average Freight Cost\n",
        "# Goal: Pinpoint high-cost delivery destinations.\n",
        "top_countries_by_freight = df.groupby('Country')['Freight Cost (USD)'].mean().nlargest(10)\n",
        "plt.figure(figsize=(12, 7))\n",
        "top_countries_by_freight.sort_values().plot(kind='barh', color='lightcoral')\n",
        "plt.title('Top 10 Countries by Average Freight Cost (USD)')\n",
        "plt.xlabel('Average Freight Cost (USD)')\n",
        "plt.ylabel('Country')\n",
        "plt.tight_layout()\n",
        "plt.savefig('top_10_countries_by_avg_freight_cost.png')\n",
        "plt.show()\n",
        "print(\"Analysis 4: Horizontal bar chart of Top 10 Countries by Average Freight Cost created.\")\n",
        "print(\"This chart shows which countries have the highest average freight costs per shipment.\")\n"
      ],
      "metadata": {
        "id": "irlUoxc8YrdO"
      },
      "execution_count": null,
      "outputs": []
    },
    {
      "cell_type": "markdown",
      "source": [
        "##### 1. Why did you pick the specific chart?"
      ],
      "metadata": {
        "id": "iky9q4vBYrdO"
      }
    },
    {
      "cell_type": "markdown",
      "source": [
        "**4. Top 10 Countries with Highest Average Freight Cost**\n",
        "A horizontal bar chart is great for ranking and comparing countries based on a numerical metric like average freight cost."
      ],
      "metadata": {
        "id": "aJRCwT6DYrdO"
      }
    },
    {
      "cell_type": "markdown",
      "source": [
        "##### 2. What is/are the insight(s) found from the chart?"
      ],
      "metadata": {
        "id": "F6T5p64dYrdO"
      }
    },
    {
      "cell_type": "markdown",
      "source": [
        "What is the insight? The Haiti and Dominican Republic have the highest average freight costs per shipment."
      ],
      "metadata": {
        "id": "Xx8WAJvtYrdO"
      }
    },
    {
      "cell_type": "markdown",
      "source": [
        "##### 3. Will the gained insights help creating a positive business impact?\n",
        "Are there any insights that lead to negative growth? Justify with specific reason."
      ],
      "metadata": {
        "id": "y-Ehk30pYrdP"
      }
    },
    {
      "cell_type": "markdown",
      "source": [
        "Positive. This identifies high-cost routes that can be analyzed for optimization or for adjusting pricing strategies."
      ],
      "metadata": {
        "id": "jLNxxz7MYrdP"
      }
    },
    {
      "cell_type": "markdown",
      "source": [
        "#### Chart - 5"
      ],
      "metadata": {
        "id": "bamQiAODYuh1"
      }
    },
    {
      "cell_type": "code",
      "source": [
        "# Chart - 5 visualization code\n",
        "# 5. Analysis: Relationship between Line Item Value and Freight Cost\n",
        "# Goal: See if more valuable shipments incur higher freight costs.\n",
        "plt.figure(figsize=(12, 7))\n",
        "sns.scatterplot(x='Line Item Value', y='Freight Cost (USD)', data=df, alpha=0.5)\n",
        "plt.title('Relationship between Line Item Value and Freight Cost (USD)')\n",
        "plt.xlabel('Line Item Value (USD)')\n",
        "plt.ylabel('Freight Cost (USD)')\n",
        "plt.xscale('log')  # Use a log scale to better visualize the wide range of values\n",
        "plt.yscale('log')\n",
        "plt.tight_layout()\n",
        "plt.savefig('line_item_value_vs_freight_cost.png')\n",
        "plt.show()\n",
        "print(\"Analysis 5: Scatter plot of Line Item Value vs. Freight Cost created.\")\n",
        "print(\"This chart visualizes the correlation between the value of goods and their shipping cost.\")\n"
      ],
      "metadata": {
        "id": "TIJwrbroYuh3"
      },
      "execution_count": null,
      "outputs": []
    },
    {
      "cell_type": "markdown",
      "source": [
        "##### 1. Why did you pick the specific chart?"
      ],
      "metadata": {
        "id": "QHF8YVU7Yuh3"
      }
    },
    {
      "cell_type": "markdown",
      "source": [
        "**5. Relationship between Line Item Value and Freight Cost**\n",
        "A scatter plot is used to show the relationship between two continuous variables, in this case, value and cost."
      ],
      "metadata": {
        "id": "dcxuIMRPYuh3"
      }
    },
    {
      "cell_type": "markdown",
      "source": [
        "##### 2. What is/are the insight(s) found from the chart?"
      ],
      "metadata": {
        "id": "GwzvFGzlYuh3"
      }
    },
    {
      "cell_type": "markdown",
      "source": [
        "There is a positive correlation between Line Item Value and Freight Cost, but with high variance, implying other factors are also involved."
      ],
      "metadata": {
        "id": "uyqkiB8YYuh3"
      }
    },
    {
      "cell_type": "markdown",
      "source": [
        "##### 3. Will the gained insights help creating a positive business impact?\n",
        "Are there any insights that lead to negative growth? Justify with specific reason."
      ],
      "metadata": {
        "id": "qYpmQ266Yuh3"
      }
    },
    {
      "cell_type": "markdown",
      "source": [
        "Positive. This insight can help validate pricing models and identify opportunities to reduce freight costs for valuable items."
      ],
      "metadata": {
        "id": "_WtzZ_hCYuh4"
      }
    },
    {
      "cell_type": "markdown",
      "source": [
        "#### Chart - 6"
      ],
      "metadata": {
        "id": "OH-pJp9IphqM"
      }
    },
    {
      "cell_type": "code",
      "source": [
        "\n",
        "# 6. Analysis: Distribution of Products by Product Group\n",
        "# Goal: Understand the product portfolio and distribution.\n",
        "product_group_counts = df['Product Group'].value_counts()\n",
        "plt.figure(figsize=(10, 8))\n",
        "plt.pie(product_group_counts, labels=product_group_counts.index, autopct='%1.1f%%', startangle=90)\n",
        "plt.title('Distribution of Shipments by Product Group')\n",
        "plt.tight_layout()\n",
        "plt.savefig('distribution_of_products_by_group.png')\n",
        "plt.show()\n",
        "print(\"Analysis 6: Pie chart of Product Group distribution created.\")\n",
        "print(\"This chart shows the proportion of each product group in the total shipments.\")\n"
      ],
      "metadata": {
        "id": "kuRf4wtuphqN"
      },
      "execution_count": null,
      "outputs": []
    },
    {
      "cell_type": "markdown",
      "source": [
        "##### 1. Why did you pick the specific chart?"
      ],
      "metadata": {
        "id": "bbFf2-_FphqN"
      }
    },
    {
      "cell_type": "markdown",
      "source": [
        "**6. Distribution of Products by Product Group**\n",
        "A pie chart is the best visualization for showing the proportion of each product group relative to the total portfolio."
      ],
      "metadata": {
        "id": "loh7H2nzphqN"
      }
    },
    {
      "cell_type": "markdown",
      "source": [
        "##### 2. What is/are the insight(s) found from the chart?"
      ],
      "metadata": {
        "id": "_ouA3fa0phqN"
      }
    },
    {
      "cell_type": "markdown",
      "source": [
        "The ARV product group dominates the portfolio, representing the vast majority of all shipments."
      ],
      "metadata": {
        "id": "VECbqPI7phqN"
      }
    },
    {
      "cell_type": "markdown",
      "source": [
        "##### 3. Will the gained insights help creating a positive business impact?\n",
        "Are there any insights that lead to negative growth? Justify with specific reason."
      ],
      "metadata": {
        "id": "Seke61FWphqN"
      }
    },
    {
      "cell_type": "markdown",
      "source": [
        "Positive. This highlights business focus, allowing for specialized optimization of the logistics for this dominant product category."
      ],
      "metadata": {
        "id": "DW4_bGpfphqN"
      }
    },
    {
      "cell_type": "markdown",
      "source": [
        "#### Chart - 7"
      ],
      "metadata": {
        "id": "PIIx-8_IphqN"
      }
    },
    {
      "cell_type": "code",
      "source": [
        "# Chart - 7 visualization code\n",
        "\n",
        "# 7. Analysis: Top 10 Vendors by Line Item Value\n",
        "# Goal: Identify the most valuable vendor relationships.\n",
        "top_vendors_by_value = df.groupby('Vendor')['Line Item Value'].sum().nlargest(10)\n",
        "plt.figure(figsize=(12, 7))\n",
        "top_vendors_by_value.sort_values().plot(kind='barh', color='darkgreen')\n",
        "plt.title('Top 10 Vendors by Total Line Item Value')\n",
        "plt.xlabel('Total Line Item Value (USD)')\n",
        "plt.ylabel('Vendor')\n",
        "plt.tight_layout()\n",
        "plt.savefig('top_10_vendors_by_value.png')\n",
        "plt.show()\n",
        "print(\"Analysis 7: Horizontal bar chart of Top 10 Vendors by Value created.\")\n",
        "print(\"This chart highlights the vendors that contribute the most value.\")\n"
      ],
      "metadata": {
        "id": "lqAIGUfyphqO"
      },
      "execution_count": null,
      "outputs": []
    },
    {
      "cell_type": "markdown",
      "source": [
        "##### 1. Why did you pick the specific chart?"
      ],
      "metadata": {
        "id": "t27r6nlMphqO"
      }
    },
    {
      "cell_type": "markdown",
      "source": [
        "**7. Top 10 Vendors by Line Item Value**\n",
        " A horizontal bar chart effectively ranks and compares vendors based on their total contribution to business value."
      ],
      "metadata": {
        "id": "iv6ro40sphqO"
      }
    },
    {
      "cell_type": "markdown",
      "source": [
        "##### 2. What is/are the insight(s) found from the chart?"
      ],
      "metadata": {
        "id": "r2jJGEOYphqO"
      }
    },
    {
      "cell_type": "markdown",
      "source": [
        "The SCMS from RDC and Aurobindo Pharma are key vendors, contributing the most to the total line item value."
      ],
      "metadata": {
        "id": "Po6ZPi4hphqO"
      }
    },
    {
      "cell_type": "markdown",
      "source": [
        "##### 3. Will the gained insights help creating a positive business impact?\n",
        "Are there any insights that lead to negative growth? Justify with specific reason."
      ],
      "metadata": {
        "id": "b0JNsNcRphqO"
      }
    },
    {
      "cell_type": "markdown",
      "source": [
        "Positive. This identifies high-value vendor relationships that are critical to manage and foster for business growth."
      ],
      "metadata": {
        "id": "xvSq8iUTphqO"
      }
    },
    {
      "cell_type": "markdown",
      "source": [
        "#### Chart - 8"
      ],
      "metadata": {
        "id": "BZR9WyysphqO"
      }
    },
    {
      "cell_type": "code",
      "source": [
        "# Chart - 8 visualization code\n",
        "\n",
        "# 8. Analysis: Delivery Performance by Vendor\n",
        "# Goal: Evaluate vendor reliability in meeting deadlines.\n",
        "top_vendors_by_delay = df.groupby('Vendor')['Delivery Delay (Days)'].mean().nlargest(10)\n",
        "plt.figure(figsize=(12, 7))\n",
        "top_vendors_by_delay.sort_values().plot(kind='barh', color='salmon')\n",
        "plt.title('Top 10 Vendors with Highest Average Delivery Delay')\n",
        "plt.xlabel('Average Delivery Delay (Days)')\n",
        "plt.ylabel('Vendor')\n",
        "plt.tight_layout()\n",
        "plt.savefig('top_10_vendors_by_delay.png')\n",
        "plt.show()\n",
        "print(\"Analysis 8: Horizontal bar chart of Top 10 Vendors by Delay created.\")\n",
        "print(\"This chart pinpoints vendors that are potential bottlenecks.\")\n"
      ],
      "metadata": {
        "id": "TdPTWpAVphqO"
      },
      "execution_count": null,
      "outputs": []
    },
    {
      "cell_type": "markdown",
      "source": [
        "##### 1. Why did you pick the specific chart?"
      ],
      "metadata": {
        "id": "jj7wYXLtphqO"
      }
    },
    {
      "cell_type": "markdown",
      "source": [
        "**8. Delivery Performance by Vendor**\n",
        "A horizontal bar chart is ideal for ranking vendors by their average delivery delay."
      ],
      "metadata": {
        "id": "Ob8u6rCTphqO"
      }
    },
    {
      "cell_type": "markdown",
      "source": [
        "##### 2. What is/are the insight(s) found from the chart?"
      ],
      "metadata": {
        "id": "eZrbJ2SmphqO"
      }
    },
    {
      "cell_type": "markdown",
      "source": [
        "Gilead Sciences and Medchem International are among the vendors with the highest average delivery delays."
      ],
      "metadata": {
        "id": "mZtgC_hjphqO"
      }
    },
    {
      "cell_type": "markdown",
      "source": [
        "##### 3. Will the gained insights help creating a positive business impact?\n",
        "Are there any insights that lead to negative growth? Justify with specific reason."
      ],
      "metadata": {
        "id": "rFu4xreNphqO"
      }
    },
    {
      "cell_type": "markdown",
      "source": [
        "Positive. This identifies underperforming vendors, providing a clear starting point for performance improvement and risk mitigation."
      ],
      "metadata": {
        "id": "ey_0qi68phqO"
      }
    },
    {
      "cell_type": "markdown",
      "source": [
        "#### Chart - 9"
      ],
      "metadata": {
        "id": "YJ55k-q6phqO"
      }
    },
    {
      "cell_type": "code",
      "source": [
        "# Chart - 9 visualization code\n",
        "\n",
        "# 9. Analysis: Delivery Timelines over the Years\n",
        "# Goal: Analyze if delivery performance has improved or worsened over time.\n",
        "df['Year'] = df['Delivered to Client Date'].dt.year.dropna()\n",
        "avg_delay_by_year = df.groupby('Year')['Delivery Delay (Days)'].mean()\n",
        "plt.figure(figsize=(12, 7))\n",
        "avg_delay_by_year.plot(kind='line', marker='o', color='purple')\n",
        "plt.title('Average Delivery Delay Over the Years')\n",
        "plt.xlabel('Year')\n",
        "plt.ylabel('Average Delivery Delay (Days)')\n",
        "plt.grid(True)\n",
        "plt.tight_layout()\n",
        "plt.savefig('avg_delivery_delay_over_years.png')\n",
        "plt.show()\n",
        "print(\"Analysis 9: Line plot of Average Delivery Delay over the Years created.\")\n",
        "print(\"This chart shows long-term trends in delivery timeliness.\")\n",
        "\n"
      ],
      "metadata": {
        "id": "B2aS4O1ophqO"
      },
      "execution_count": null,
      "outputs": []
    },
    {
      "cell_type": "markdown",
      "source": [
        "##### 1. Why did you pick the specific chart?"
      ],
      "metadata": {
        "id": "gCFgpxoyphqP"
      }
    },
    {
      "cell_type": "markdown",
      "source": [
        "**9. Delivery Timelines over the Years**\n",
        "A line plot is the most effective chart for showing trends of a metric over a continuous period like years."
      ],
      "metadata": {
        "id": "TVxDimi2phqP"
      }
    },
    {
      "cell_type": "markdown",
      "source": [
        "##### 2. What is/are the insight(s) found from the chart?"
      ],
      "metadata": {
        "id": "OVtJsKN_phqQ"
      }
    },
    {
      "cell_type": "markdown",
      "source": [
        "Delivery performance has fluctuated over the years without a clear, consistent trend of improvement."
      ],
      "metadata": {
        "id": "ngGi97qjphqQ"
      }
    },
    {
      "cell_type": "markdown",
      "source": [
        "##### 3. Will the gained insights help creating a positive business impact?\n",
        "Are there any insights that lead to negative growth? Justify with specific reason."
      ],
      "metadata": {
        "id": "lssrdh5qphqQ"
      }
    },
    {
      "cell_type": "markdown",
      "source": [
        "Negative. This suggests a need for a sustained, strategic focus on improving delivery timelines, as performance isn't self-correcting."
      ],
      "metadata": {
        "id": "tBpY5ekJphqQ"
      }
    },
    {
      "cell_type": "markdown",
      "source": [
        "#### Chart - 10"
      ],
      "metadata": {
        "id": "U2RJ9gkRphqQ"
      }
    },
    {
      "cell_type": "code",
      "source": [
        "# Chart - 10 visualization code\n",
        "\n",
        "# 10. Analysis: Relationship between Weight and Freight Cost\n",
        "# Goal: Understand if freight cost is directly proportional to weight.\n",
        "plt.figure(figsize=(12, 7))\n",
        "sns.scatterplot(x='Weight (Kilograms)', y='Freight Cost (USD)', data=df, alpha=0.5)\n",
        "plt.title('Relationship between Weight and Freight Cost')\n",
        "plt.xlabel('Weight (Kilograms)')\n",
        "plt.ylabel('Freight Cost (USD)')\n",
        "plt.xscale('log') # Log scale for better visualization of spread\n",
        "plt.yscale('log')\n",
        "plt.tight_layout()\n",
        "plt.savefig('weight_vs_freight_cost.png')\n",
        "plt.show()\n",
        "print(\"Analysis 10: Scatter plot of Weight vs. Freight Cost created.\")\n",
        "print(\"This chart explores the correlation between a shipment's weight and its freight cost.\")\n"
      ],
      "metadata": {
        "id": "GM7a4YP4phqQ"
      },
      "execution_count": null,
      "outputs": []
    },
    {
      "cell_type": "markdown",
      "source": [
        "##### 1. Why did you pick the specific chart?"
      ],
      "metadata": {
        "id": "1M8mcRywphqQ"
      }
    },
    {
      "cell_type": "markdown",
      "source": [
        "**10. Relationship between Weight and Freight Cost**\n",
        "A scatter plot is the right choice for visualizing the correlation between two continuous variables like weight and cost."
      ],
      "metadata": {
        "id": "8agQvks0phqQ"
      }
    },
    {
      "cell_type": "markdown",
      "source": [
        "##### 2. What is/are the insight(s) found from the chart?"
      ],
      "metadata": {
        "id": "tgIPom80phqQ"
      }
    },
    {
      "cell_type": "markdown",
      "source": [
        "There is a clear positive correlation between Weight (Kilograms) and Freight Cost, but the variance highlights opportunities for cost optimization."
      ],
      "metadata": {
        "id": "Qp13pnNzphqQ"
      }
    },
    {
      "cell_type": "markdown",
      "source": [
        "##### 3. Will the gained insights help creating a positive business impact?\n",
        "Are there any insights that lead to negative growth? Justify with specific reason."
      ],
      "metadata": {
        "id": "JMzcOPDDphqR"
      }
    },
    {
      "cell_type": "markdown",
      "source": [
        "Positive. This confirms the direct impact of weight on cost, validating pricing models and indicating areas for negotiation."
      ],
      "metadata": {
        "id": "R4Ka1PC2phqR"
      }
    },
    {
      "cell_type": "markdown",
      "source": [
        "#### Chart - 11"
      ],
      "metadata": {
        "id": "x-EpHcCOp1ci"
      }
    },
    {
      "cell_type": "code",
      "source": [
        "# Chart - 11 visualization code\n",
        "\n",
        "# 11. Analysis: Breakdown of Shipments by Vendor INCO Term\n",
        "# Goal: Understand the distribution of vendor agreements.\n",
        "inco_term_counts = df['Vendor INCO Term'].value_counts()\n",
        "plt.figure(figsize=(10, 8))\n",
        "plt.pie(inco_term_counts, labels=inco_term_counts.index, autopct='%1.1f%%', startangle=90)\n",
        "plt.title('Distribution of Shipments by Vendor INCO Term')\n",
        "plt.tight_layout()\n",
        "plt.savefig('distribution_of_inco_terms.png')\n",
        "plt.show()\n",
        "print(\"Analysis 11: Pie chart of Vendor INCO Term distribution created.\")\n",
        "print(\"This chart shows the most common vendor agreements.\")\n",
        "\n"
      ],
      "metadata": {
        "id": "mAQTIvtqp1cj"
      },
      "execution_count": null,
      "outputs": []
    },
    {
      "cell_type": "markdown",
      "source": [
        "##### 1. Why did you pick the specific chart?"
      ],
      "metadata": {
        "id": "X_VqEhTip1ck"
      }
    },
    {
      "cell_type": "markdown",
      "source": [
        "**11. Breakdown of Shipments by Vendor INCO Term**\n",
        "A pie chart is best for visualizing the proportion of different types of vendor agreements relative to the whole."
      ],
      "metadata": {
        "id": "-vsMzt_np1ck"
      }
    },
    {
      "cell_type": "markdown",
      "source": [
        "##### 2. What is/are the insight(s) found from the chart?"
      ],
      "metadata": {
        "id": "8zGJKyg5p1ck"
      }
    },
    {
      "cell_type": "markdown",
      "source": [
        "The EXW and FCA terms dominate, showing that the company frequently takes on freight and risk responsibilities."
      ],
      "metadata": {
        "id": "ZYdMsrqVp1ck"
      }
    },
    {
      "cell_type": "markdown",
      "source": [
        "##### 3. Will the gained insights help creating a positive business impact?\n",
        "Are there any insights that lead to negative growth? Justify with specific reason."
      ],
      "metadata": {
        "id": "PVzmfK_Ep1ck"
      }
    },
    {
      "cell_type": "markdown",
      "source": [
        "Positive. Understanding this distribution helps in managing financial responsibilities and assessing logistical risk."
      ],
      "metadata": {
        "id": "druuKYZpp1ck"
      }
    },
    {
      "cell_type": "markdown",
      "source": [
        "#### Chart - 12"
      ],
      "metadata": {
        "id": "n3dbpmDWp1ck"
      }
    },
    {
      "cell_type": "code",
      "source": [
        "# Chart - 12 visualization code\n",
        "\n",
        "# 12. Analysis: Cost-effectiveness by Fulfill Via Method\n",
        "# Goal: Compare the average freight cost of fulfillment methods.\n",
        "avg_freight_by_fulfill = df.groupby('Fulfill Via')['Freight Cost (USD)'].mean().sort_values()\n",
        "plt.figure(figsize=(8, 6))\n",
        "avg_freight_by_fulfill.plot(kind='bar', color=['darkblue', 'orange'])\n",
        "plt.title('Average Freight Cost by Fulfillment Method')\n",
        "plt.xlabel('Fulfillment Method')\n",
        "plt.ylabel('Average Freight Cost (USD)')\n",
        "plt.xticks(rotation=0)\n",
        "plt.tight_layout()\n",
        "plt.savefig('avg_freight_by_fulfill_method.png')\n",
        "plt.show()\n",
        "print(\"Analysis 12: Bar chart of Average Freight Cost by Fulfillment Method created.\")\n",
        "print(\"This chart compares the average cost of using a Regional Distribution Center vs. a Direct Drop.\")\n"
      ],
      "metadata": {
        "id": "bwevp1tKp1ck"
      },
      "execution_count": null,
      "outputs": []
    },
    {
      "cell_type": "markdown",
      "source": [
        "##### 1. Why did you pick the specific chart?"
      ],
      "metadata": {
        "id": "ylSl6qgtp1ck"
      }
    },
    {
      "cell_type": "markdown",
      "source": [
        "**12. Cost-effectiveness by Fulfill Via Method**\n",
        "\n",
        "A bar chart is ideal for directly comparing the average cost across two distinct categories of fulfillment methods."
      ],
      "metadata": {
        "id": "m2xqNkiQp1ck"
      }
    },
    {
      "cell_type": "markdown",
      "source": [
        "##### 2. What is/are the insight(s) found from the chart?"
      ],
      "metadata": {
        "id": "ZWILFDl5p1ck"
      }
    },
    {
      "cell_type": "markdown",
      "source": [
        "Direct Drop shipments have a much higher average freight cost than those fulfilled From RDC."
      ],
      "metadata": {
        "id": "x-lUsV2mp1ck"
      }
    },
    {
      "cell_type": "markdown",
      "source": [
        "##### 3. Will the gained insights help creating a positive business impact?\n",
        "Are there any insights that lead to negative growth? Justify with specific reason."
      ],
      "metadata": {
        "id": "M7G43BXep1ck"
      }
    },
    {
      "cell_type": "markdown",
      "source": [
        "Positive. This provides a direct, actionable insight to reduce costs by shifting more shipments to the RDC fulfillment model."
      ],
      "metadata": {
        "id": "5wwDJXsLp1cl"
      }
    },
    {
      "cell_type": "markdown",
      "source": [
        "#### Chart - 13"
      ],
      "metadata": {
        "id": "Ag9LCva-p1cl"
      }
    },
    {
      "cell_type": "code",
      "source": [
        "# Chart - 13 visualization code"
      ],
      "metadata": {
        "id": "EUfxeq9-p1cl"
      },
      "execution_count": null,
      "outputs": []
    },
    {
      "cell_type": "markdown",
      "source": [
        "##### 1. Why did you pick the specific chart?"
      ],
      "metadata": {
        "id": "E6MkPsBcp1cl"
      }
    },
    {
      "cell_type": "markdown",
      "source": [
        "Answer Here."
      ],
      "metadata": {
        "id": "V22bRsFWp1cl"
      }
    },
    {
      "cell_type": "markdown",
      "source": [
        "##### 2. What is/are the insight(s) found from the chart?"
      ],
      "metadata": {
        "id": "2cELzS2fp1cl"
      }
    },
    {
      "cell_type": "markdown",
      "source": [
        "Answer Here"
      ],
      "metadata": {
        "id": "ozQPc2_Ip1cl"
      }
    },
    {
      "cell_type": "markdown",
      "source": [
        "##### 3. Will the gained insights help creating a positive business impact?\n",
        "Are there any insights that lead to negative growth? Justify with specific reason."
      ],
      "metadata": {
        "id": "3MPXvC8up1cl"
      }
    },
    {
      "cell_type": "markdown",
      "source": [
        "Answer Here"
      ],
      "metadata": {
        "id": "GL8l1tdLp1cl"
      }
    },
    {
      "cell_type": "markdown",
      "source": [
        "#### Chart - 14 - Correlation Heatmap"
      ],
      "metadata": {
        "id": "NC_X3p0fY2L0"
      }
    },
    {
      "cell_type": "code",
      "source": [
        "# Correlation Heatmap visualization code"
      ],
      "metadata": {
        "id": "xyC9zolEZNRQ"
      },
      "execution_count": null,
      "outputs": []
    },
    {
      "cell_type": "markdown",
      "source": [
        "##### 1. Why did you pick the specific chart?"
      ],
      "metadata": {
        "id": "UV0SzAkaZNRQ"
      }
    },
    {
      "cell_type": "markdown",
      "source": [
        "Answer Here."
      ],
      "metadata": {
        "id": "DVPuT8LYZNRQ"
      }
    },
    {
      "cell_type": "markdown",
      "source": [
        "##### 2. What is/are the insight(s) found from the chart?"
      ],
      "metadata": {
        "id": "YPEH6qLeZNRQ"
      }
    },
    {
      "cell_type": "markdown",
      "source": [
        "Answer Here"
      ],
      "metadata": {
        "id": "bfSqtnDqZNRR"
      }
    },
    {
      "cell_type": "markdown",
      "source": [
        "#### Chart - 15 - Pair Plot"
      ],
      "metadata": {
        "id": "q29F0dvdveiT"
      }
    },
    {
      "cell_type": "code",
      "source": [
        "# Pair Plot visualization code"
      ],
      "metadata": {
        "id": "o58-TEIhveiU"
      },
      "execution_count": null,
      "outputs": []
    },
    {
      "cell_type": "markdown",
      "source": [
        "##### 1. Why did you pick the specific chart?"
      ],
      "metadata": {
        "id": "EXh0U9oCveiU"
      }
    },
    {
      "cell_type": "markdown",
      "source": [
        "Answer Here."
      ],
      "metadata": {
        "id": "eMmPjTByveiU"
      }
    },
    {
      "cell_type": "markdown",
      "source": [
        "##### 2. What is/are the insight(s) found from the chart?"
      ],
      "metadata": {
        "id": "22aHeOlLveiV"
      }
    },
    {
      "cell_type": "markdown",
      "source": [
        "Answer Here"
      ],
      "metadata": {
        "id": "uPQ8RGwHveiV"
      }
    },
    {
      "cell_type": "markdown",
      "source": [
        "## **5. Solution to Business Objective**"
      ],
      "metadata": {
        "id": "JcMwzZxoAimU"
      }
    },
    {
      "cell_type": "markdown",
      "source": [
        "#### What do you suggest the client to achieve Business Objective ?\n",
        "Explain Briefly."
      ],
      "metadata": {
        "id": "8G2x9gOozGDZ"
      }
    },
    {
      "cell_type": "markdown",
      "source": [
        "**1. Prioritize Air and Truck Shipments:** These modes have the lowest average delivery delays, ensuring time-sensitive goods reach clients quickly, which directly improves customer satisfaction.\n",
        "\n",
        "**2. Optimize Ocean Freight Logistics:** Investigate the high average delays in Ocean shipments to identify bottlenecks. This could involve re-evaluating routes or negotiating with shipping partners.\n",
        "\n",
        "**3. Encourage RDC Fulfillment:** Direct Drop shipments are significantly more expensive. Promote the use of Regional Distribution Centers to consolidate shipments and lower average freight costs.\n",
        "\n",
        "**4. Target High-Cost Shipping Lanes:** Analyze routes to high-cost countries like Haiti and the Dominican Republic to find more economical logistics partners or methods.\n",
        "\n",
        "**5. Review Vendor Performance:** Address the high average delivery delays from vendors like Gilead Sciences. This is crucial for maintaining a reliable and efficient supply chain.\n",
        "\n",
        "**6. Leverage Vendor Value:** Maintain and strengthen relationships with high-value vendors, such as Aurobindo Pharma, to secure favorable terms and ensure a consistent supply chain.\n",
        "\n",
        "**7. Monitor Delivery Timeliness:** Implement a dashboard to continuously track and analyze delivery delays over time. This helps in early detection of negative trends and proactive management.\n",
        "\n",
        "**8. Standardize Data Collection:** Address the data inconsistencies found in fields like Weight and Freight Cost to improve the quality of future analysis and decision-making.\n",
        "\n",
        "**9. Forecast Demand in Key Markets:** Use insights on top-volume countries like South Africa and Uganda to better forecast demand and optimize inventory and delivery planning.\n",
        "\n",
        "**10. Align Vendor Terms:** Analyze the distribution of INCO Terms to ensure vendor agreements align with the company's risk and cost management strategy. This could lead to better financial outcomes."
      ],
      "metadata": {
        "id": "pASKb0qOza21"
      }
    },
    {
      "cell_type": "markdown",
      "source": [
        "# **Conclusion**"
      ],
      "metadata": {
        "id": "gCX9965dhzqZ"
      }
    },
    {
      "cell_type": "markdown",
      "source": [
        "**Data-Driven Decision Making:** The project successfully transformed a raw, messy dataset into a clean, analytical resource, enabling data-driven decisions rather than relying on assumptions.\n",
        "\n",
        "**Identified Operational Bottlenecks:**  Analysis revealed that Ocean freight is a primary source of delivery delays and that certain vendors consistently underperform, pinpointing areas that need immediate operational attention.\n",
        "\n",
        "**Uncovered Cost Optimization Opportunities:** The data shows that Direct Drop fulfillment is significantly more expensive than using Regional Distribution Centers, providing a clear, actionable path to reduce freight costs.\n",
        "\n",
        "**Pinpointed High-Value Relationships:** The analysis identified key markets (e.g., South Africa) and high-value vendors, allowing FedEx to focus resources on its most critical partnerships and markets.\n",
        "\n",
        "**Validated Business Model Insights:** The project confirmed that freight costs are directly correlated with weight and value. This insight helps in validating pricing models and identifying areas for more strategic cost negotiation.\n",
        "\n",
        "**Established a Baseline for Performance:** By creating a Delivery Delay (Days) metric, the project establishes a baseline for future performance monitoring, enabling the company to track progress and measure the impact of strategic changes over time.\n",
        "\n"
      ],
      "metadata": {
        "id": "Fjb1IsQkh3yE"
      }
    },
    {
      "cell_type": "markdown",
      "source": [
        "### ***Hurrah! i have successfully completed your EDA Capstone Project !!!***"
      ],
      "metadata": {
        "id": "gIfDvo9L0UH2"
      }
    }
  ]
}